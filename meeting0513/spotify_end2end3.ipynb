{
 "cells": [
  {
   "cell_type": "code",
   "execution_count": 4,
   "metadata": {},
   "outputs": [],
   "source": [
    "from sklearn.metrics import classification_report,confusion_matrix\n",
    "from sklearn.model_selection import learning_curve\n",
    "from sklearn.neural_network import MLPClassifier\n",
    "from sklearn.metrics import accuracy_score\n",
    "from sklearn.datasets import load_digits\n",
    "from scipy.special import expit\n",
    "import matplotlib.pyplot as plt\n",
    "import scikitplot as skplt\n",
    "import pandas as pd\n",
    "import numpy as np"
   ]
  },
  {
   "cell_type": "code",
   "execution_count": 5,
   "metadata": {},
   "outputs": [],
   "source": [
    "# Loading in data\n",
    "data = pd.read_csv(\"inputsong3.csv\")\n",
    "\n",
    "# Delete non-number columns\n",
    "data = data.drop(['Artist'], axis=1)\n",
    "data = data.drop(['Album'], axis=1)\n",
    "data = data.drop(['Track ID'], axis=1)\n",
    "data = data.drop(['Track'], axis=1)"
   ]
  },
  {
   "cell_type": "code",
   "execution_count": 6,
   "metadata": {},
   "outputs": [
    {
     "data": {
      "text/html": [
       "<div>\n",
       "<style scoped>\n",
       "    .dataframe tbody tr th:only-of-type {\n",
       "        vertical-align: middle;\n",
       "    }\n",
       "\n",
       "    .dataframe tbody tr th {\n",
       "        vertical-align: top;\n",
       "    }\n",
       "\n",
       "    .dataframe thead th {\n",
       "        text-align: right;\n",
       "    }\n",
       "</style>\n",
       "<table border=\"1\" class=\"dataframe\">\n",
       "  <thead>\n",
       "    <tr style=\"text-align: right;\">\n",
       "      <th></th>\n",
       "      <th>Release Date</th>\n",
       "      <th>Popularity</th>\n",
       "      <th>Danceability</th>\n",
       "      <th>Energy</th>\n",
       "      <th>Key Val</th>\n",
       "      <th>Loudness</th>\n",
       "      <th>Mode</th>\n",
       "      <th>Speechiness</th>\n",
       "      <th>Acousticness</th>\n",
       "      <th>Instrumentalness</th>\n",
       "      <th>Liveness</th>\n",
       "      <th>Valence</th>\n",
       "      <th>Tempo</th>\n",
       "      <th>Time Signature</th>\n",
       "    </tr>\n",
       "  </thead>\n",
       "  <tbody>\n",
       "    <tr>\n",
       "      <th>0</th>\n",
       "      <td>2013</td>\n",
       "      <td>31</td>\n",
       "      <td>0.455</td>\n",
       "      <td>0.972</td>\n",
       "      <td>9</td>\n",
       "      <td>-3.025</td>\n",
       "      <td>1</td>\n",
       "      <td>0.1870</td>\n",
       "      <td>0.000193</td>\n",
       "      <td>0.000229</td>\n",
       "      <td>0.387</td>\n",
       "      <td>0.102</td>\n",
       "      <td>133.034</td>\n",
       "      <td>4</td>\n",
       "    </tr>\n",
       "    <tr>\n",
       "      <th>1</th>\n",
       "      <td>2011</td>\n",
       "      <td>73</td>\n",
       "      <td>0.733</td>\n",
       "      <td>0.899</td>\n",
       "      <td>0</td>\n",
       "      <td>-4.237</td>\n",
       "      <td>1</td>\n",
       "      <td>0.1430</td>\n",
       "      <td>0.004960</td>\n",
       "      <td>0.000047</td>\n",
       "      <td>0.372</td>\n",
       "      <td>0.760</td>\n",
       "      <td>127.086</td>\n",
       "      <td>4</td>\n",
       "    </tr>\n",
       "    <tr>\n",
       "      <th>2</th>\n",
       "      <td>1998</td>\n",
       "      <td>39</td>\n",
       "      <td>0.632</td>\n",
       "      <td>0.926</td>\n",
       "      <td>7</td>\n",
       "      <td>-5.954</td>\n",
       "      <td>1</td>\n",
       "      <td>0.1270</td>\n",
       "      <td>0.008900</td>\n",
       "      <td>0.466000</td>\n",
       "      <td>0.367</td>\n",
       "      <td>0.777</td>\n",
       "      <td>168.284</td>\n",
       "      <td>4</td>\n",
       "    </tr>\n",
       "    <tr>\n",
       "      <th>3</th>\n",
       "      <td>1998</td>\n",
       "      <td>30</td>\n",
       "      <td>0.747</td>\n",
       "      <td>0.868</td>\n",
       "      <td>11</td>\n",
       "      <td>-6.360</td>\n",
       "      <td>0</td>\n",
       "      <td>0.0613</td>\n",
       "      <td>0.002470</td>\n",
       "      <td>0.174000</td>\n",
       "      <td>0.494</td>\n",
       "      <td>0.485</td>\n",
       "      <td>110.950</td>\n",
       "      <td>4</td>\n",
       "    </tr>\n",
       "    <tr>\n",
       "      <th>4</th>\n",
       "      <td>2000</td>\n",
       "      <td>57</td>\n",
       "      <td>0.690</td>\n",
       "      <td>0.664</td>\n",
       "      <td>5</td>\n",
       "      <td>-7.715</td>\n",
       "      <td>0</td>\n",
       "      <td>0.0542</td>\n",
       "      <td>0.000447</td>\n",
       "      <td>0.034300</td>\n",
       "      <td>0.073</td>\n",
       "      <td>0.630</td>\n",
       "      <td>87.287</td>\n",
       "      <td>4</td>\n",
       "    </tr>\n",
       "  </tbody>\n",
       "</table>\n",
       "</div>"
      ],
      "text/plain": [
       "   Release Date  Popularity  Danceability  Energy  Key Val  Loudness  Mode  \\\n",
       "0          2013          31         0.455   0.972        9    -3.025     1   \n",
       "1          2011          73         0.733   0.899        0    -4.237     1   \n",
       "2          1998          39         0.632   0.926        7    -5.954     1   \n",
       "3          1998          30         0.747   0.868       11    -6.360     0   \n",
       "4          2000          57         0.690   0.664        5    -7.715     0   \n",
       "\n",
       "   Speechiness  Acousticness  Instrumentalness  Liveness  Valence    Tempo  \\\n",
       "0       0.1870      0.000193          0.000229     0.387    0.102  133.034   \n",
       "1       0.1430      0.004960          0.000047     0.372    0.760  127.086   \n",
       "2       0.1270      0.008900          0.466000     0.367    0.777  168.284   \n",
       "3       0.0613      0.002470          0.174000     0.494    0.485  110.950   \n",
       "4       0.0542      0.000447          0.034300     0.073    0.630   87.287   \n",
       "\n",
       "   Time Signature  \n",
       "0               4  \n",
       "1               4  \n",
       "2               4  \n",
       "3               4  \n",
       "4               4  "
      ]
     },
     "execution_count": 6,
     "metadata": {},
     "output_type": "execute_result"
    }
   ],
   "source": [
    "# Mapping Keys to numbers\n",
    "key_di = {0: \"C\",0: \"B#\", 1: \"C#\", 2: \"D\", 3: \"D#\", 4: \"E\", 5: \"F\", 5: \"E#\", 6: \"F#\", \n",
    "          7: \"G\", 8: \"G#\", 9: \"A\", 10: \"A#\", 11: \"B\"}\n",
    "data.replace({\"Key\": key_di})\n",
    "data = data.drop(['Key'], axis=1)\n",
    "data.head()"
   ]
  },
  {
   "cell_type": "code",
   "execution_count": 21,
   "metadata": {},
   "outputs": [],
   "source": [
    "# Split training, testing, validation data by 80%, 10%, 10%\n",
    "train_data, validate_data, test_data = np.split(data.sample(frac=1), [int(.8*len(data)), int(.9*len(data))])"
   ]
  },
  {
   "cell_type": "code",
   "execution_count": 8,
   "metadata": {},
   "outputs": [
    {
     "name": "stdout",
     "output_type": "stream",
     "text": [
      "48835\n",
      "6104\n",
      "6105\n"
     ]
    }
   ],
   "source": [
    "# Split output and convert to array\n",
    "train_output = train_data.Popularity\n",
    "train_data = train_data.drop(['Popularity'], axis=1)\n",
    "train_data = np.asarray(train_data,dtype=np.float64)\n",
    "training_count = len(train_data[:,0])\n",
    "\n",
    "validate_output = validate_data.Popularity\n",
    "validate_data = validate_data.drop(['Popularity'], axis=1)\n",
    "validate_data = np.asarray(validate_data,dtype=np.float64)\n",
    "validate_count = len(validate_data[:,0])\n",
    "\n",
    "test_output = test_data.Popularity\n",
    "test_data = test_data.drop(['Popularity'], axis=1)\n",
    "test_data = np.asarray(test_data,dtype=np.float64)\n",
    "test_count = len(test_data[:,0])\n",
    "print(training_count)\n",
    "print(validate_count)\n",
    "print(test_count)"
   ]
  },
  {
   "cell_type": "code",
   "execution_count": 10,
   "metadata": {},
   "outputs": [
    {
     "data": {
      "text/plain": [
       "MLPClassifier(activation='logistic', alpha=0.0001, batch_size='auto',\n",
       "              beta_1=0.9, beta_2=0.999, early_stopping=False, epsilon=1e-08,\n",
       "              hidden_layer_sizes=(14,), learning_rate='constant',\n",
       "              learning_rate_init=0.001, max_fun=15000, max_iter=1000,\n",
       "              momentum=0.9, n_iter_no_change=10, nesterovs_momentum=True,\n",
       "              power_t=0.5, random_state=None, shuffle=True, solver='adam',\n",
       "              tol=0.0001, validation_fraction=0.1, verbose=False,\n",
       "              warm_start=False)"
      ]
     },
     "execution_count": 10,
     "metadata": {},
     "output_type": "execute_result"
    }
   ],
   "source": [
    "#class sklearn.neural_network.MLPClassifier(hidden_layer_sizes=(100, ), \n",
    "# activation='relu', solver='adam', alpha=0.0001, batch_size='auto', \n",
    "# learning_rate='constant', learning_rate_init=0.001, power_t=0.5, max_iter=200, \n",
    "# shuffle=True, random_state=None, tol=0.0001, verbose=False, warm_start=False, \n",
    "# momentum=0.9, nesterovs_momentum=True, early_stopping=False, validation_fraction=0.1, \n",
    "# beta_1=0.9, beta_2=0.999, epsilon=1e-08, n_iter_no_change=10, max_fun=15000)\n",
    "\n",
    "mlp = MLPClassifier(hidden_layer_sizes=(14, ),solver='adam', activation='logistic',max_iter=1000)\n",
    "mlp.fit(train_data,train_output)"
   ]
  },
  {
   "cell_type": "code",
   "execution_count": 11,
   "metadata": {},
   "outputs": [
    {
     "name": "stdout",
     "output_type": "stream",
     "text": [
      "[0 0 0 0 0 0 0 0 0 0 0 0 0 0 0 0 0 0 0 0]\n"
     ]
    }
   ],
   "source": [
    "test_pred = mlp.predict(test_data)\n",
    "print(test_pred[:20])"
   ]
  },
  {
   "cell_type": "code",
   "execution_count": 12,
   "metadata": {},
   "outputs": [
    {
     "name": "stdout",
     "output_type": "stream",
     "text": [
      "[0 0 0 0 0 0 0 0 0 0 0 0 0 0 0 0 0 0 0 0]\n"
     ]
    }
   ],
   "source": [
    "valid_pred = mlp.predict(validate_data)\n",
    "print(valid_pred[:20])"
   ]
  },
  {
   "cell_type": "code",
   "execution_count": 13,
   "metadata": {},
   "outputs": [
    {
     "name": "stdout",
     "output_type": "stream",
     "text": [
      "Training set score: 0.03466775877956384\n"
     ]
    }
   ],
   "source": [
    "print(\"Training set score: {}\".format(mlp.score(train_data,train_output)))"
   ]
  },
  {
   "cell_type": "code",
   "execution_count": 14,
   "metadata": {},
   "outputs": [
    {
     "name": "stdout",
     "output_type": "stream",
     "text": [
      "Testing set score: 0.03407043407043407\n"
     ]
    }
   ],
   "source": [
    "print(\"Testing set score: {}\".format(mlp.score(test_data,test_output)))"
   ]
  },
  {
   "cell_type": "code",
   "execution_count": 15,
   "metadata": {},
   "outputs": [
    {
     "name": "stdout",
     "output_type": "stream",
     "text": [
      "Validation set score: 0.03915465268676278\n"
     ]
    }
   ],
   "source": [
    "print(\"Validation set score: {}\".format(mlp.score(validate_data,validate_output)))"
   ]
  },
  {
   "cell_type": "code",
   "execution_count": 16,
   "metadata": {},
   "outputs": [
    {
     "name": "stdout",
     "output_type": "stream",
     "text": [
      "Testing set score: [[3.32407348e-02 1.85839873e-02 1.99051280e-02 2.01230031e-02\n",
      "  1.94163457e-02 1.92227516e-02 1.90827799e-02 1.96913621e-02\n",
      "  1.98017189e-02 1.95539544e-02 1.84644589e-02 2.02311505e-02\n",
      "  2.16394722e-02 1.92783536e-02 2.02468588e-02 1.94774273e-02\n",
      "  1.76904688e-02 2.18833373e-02 2.34779877e-02 2.32868797e-02\n",
      "  2.12737921e-02 2.34840103e-02 2.10489816e-02 2.26548241e-02\n",
      "  1.99827394e-02 2.14857976e-02 2.08998958e-02 1.84153410e-02\n",
      "  1.90881997e-02 1.85368298e-02 1.75192048e-02 1.48179552e-02\n",
      "  1.69979311e-02 1.58453839e-02 1.54576022e-02 1.47958204e-02\n",
      "  1.42967108e-02 1.27342907e-02 1.28002599e-02 1.25304256e-02\n",
      "  1.25391986e-02 1.36021934e-02 1.25516101e-02 1.16416446e-02\n",
      "  1.00186105e-02 1.04199231e-02 9.85764822e-03 9.62992379e-03\n",
      "  9.30141581e-03 8.55487012e-03 8.24680613e-03 8.28410739e-03\n",
      "  7.07268718e-03 7.99987273e-03 5.97735654e-03 6.18434813e-03\n",
      "  5.70206688e-03 6.16082031e-03 4.95392884e-03 5.67874762e-03\n",
      "  5.56658071e-03 4.77354685e-03 4.06456936e-03 3.98413900e-03\n",
      "  3.83341057e-03 3.57241393e-03 3.17094463e-03 3.02813299e-03\n",
      "  3.29757135e-03 2.72042135e-03 3.00197826e-03 2.03549162e-03\n",
      "  2.47680756e-03 1.88816800e-03 1.30517791e-03 1.34884528e-03\n",
      "  1.35318772e-03 1.12879459e-03 8.58296065e-04 5.66484041e-04\n",
      "  4.95324685e-04 5.18251922e-04 5.02389896e-04 1.60029730e-04\n",
      "  2.79312959e-04 1.74448933e-04 1.98369281e-04 1.23110332e-04\n",
      "  6.69893379e-05 2.99809281e-05 4.83964806e-05 3.13186196e-05\n",
      "  2.97634205e-05 2.54150704e-05]\n",
      " [3.32407347e-02 1.85839873e-02 1.99051280e-02 2.01230031e-02\n",
      "  1.94163457e-02 1.92227516e-02 1.90827799e-02 1.96913621e-02\n",
      "  1.98017189e-02 1.95539544e-02 1.84644589e-02 2.02311505e-02\n",
      "  2.16394722e-02 1.92783536e-02 2.02468588e-02 1.94774273e-02\n",
      "  1.76904688e-02 2.18833373e-02 2.34779876e-02 2.32868797e-02\n",
      "  2.12737921e-02 2.34840103e-02 2.10489816e-02 2.26548241e-02\n",
      "  1.99827394e-02 2.14857976e-02 2.08998958e-02 1.84153410e-02\n",
      "  1.90881997e-02 1.85368298e-02 1.75192048e-02 1.48179552e-02\n",
      "  1.69979311e-02 1.58453839e-02 1.54576022e-02 1.47958204e-02\n",
      "  1.42967108e-02 1.27342907e-02 1.28002599e-02 1.25304256e-02\n",
      "  1.25391986e-02 1.36021934e-02 1.25516101e-02 1.16416446e-02\n",
      "  1.00186105e-02 1.04199231e-02 9.85764822e-03 9.62992380e-03\n",
      "  9.30141581e-03 8.55487012e-03 8.24680613e-03 8.28410739e-03\n",
      "  7.07268718e-03 7.99987273e-03 5.97735654e-03 6.18434813e-03\n",
      "  5.70206688e-03 6.16082031e-03 4.95392884e-03 5.67874762e-03\n",
      "  5.56658071e-03 4.77354685e-03 4.06456936e-03 3.98413900e-03\n",
      "  3.83341057e-03 3.57241393e-03 3.17094463e-03 3.02813299e-03\n",
      "  3.29757135e-03 2.72042135e-03 3.00197826e-03 2.03549162e-03\n",
      "  2.47680756e-03 1.88816800e-03 1.30517792e-03 1.34884528e-03\n",
      "  1.35318772e-03 1.12879459e-03 8.58296066e-04 5.66484041e-04\n",
      "  4.95324685e-04 5.18251922e-04 5.02389897e-04 1.60029731e-04\n",
      "  2.79312960e-04 1.74448933e-04 1.98369282e-04 1.23110332e-04\n",
      "  6.69893379e-05 2.99809282e-05 4.83964806e-05 3.13186196e-05\n",
      "  2.97634206e-05 2.54150704e-05]]\n"
     ]
    }
   ],
   "source": [
    "#probability to each label\n",
    "print(\"Distribution of probability on validation set: {}\".format(mlp.predict_proba(validate_data[:2])))"
   ]
  },
  {
   "cell_type": "code",
   "execution_count": 17,
   "metadata": {},
   "outputs": [
    {
     "name": "stdout",
     "output_type": "stream",
     "text": [
      "              precision    recall  f1-score   support\n",
      "\n",
      "           0       0.04      1.00      0.08       239\n",
      "           1       0.00      0.00      0.00       109\n",
      "           2       0.00      0.00      0.00       111\n",
      "           3       0.00      0.00      0.00       129\n",
      "           4       0.00      0.00      0.00       115\n",
      "           5       0.00      0.00      0.00       136\n",
      "           6       0.00      0.00      0.00       114\n",
      "           7       0.00      0.00      0.00       132\n",
      "           8       0.00      0.00      0.00       131\n",
      "           9       0.00      0.00      0.00       119\n",
      "          10       0.00      0.00      0.00       110\n",
      "          11       0.00      0.00      0.00       132\n",
      "          12       0.00      0.00      0.00       129\n",
      "          13       0.00      0.00      0.00       123\n",
      "          14       0.00      0.00      0.00       127\n",
      "          15       0.00      0.00      0.00       130\n",
      "          16       0.00      0.00      0.00       127\n",
      "          17       0.00      0.00      0.00       132\n",
      "          18       0.00      0.00      0.00       151\n",
      "          19       0.00      0.00      0.00       126\n",
      "          20       0.00      0.00      0.00       139\n",
      "          21       0.00      0.00      0.00       121\n",
      "          22       0.00      0.00      0.00       129\n",
      "          23       0.00      0.00      0.00       121\n",
      "          24       0.00      0.00      0.00       131\n",
      "          25       0.00      0.00      0.00       116\n",
      "          26       0.00      0.00      0.00       102\n",
      "          27       0.00      0.00      0.00       115\n",
      "          28       0.00      0.00      0.00       105\n",
      "          29       0.00      0.00      0.00       120\n",
      "          30       0.00      0.00      0.00       126\n",
      "          31       0.00      0.00      0.00       101\n",
      "          32       0.00      0.00      0.00       108\n",
      "          33       0.00      0.00      0.00        99\n",
      "          34       0.00      0.00      0.00        82\n",
      "          35       0.00      0.00      0.00        77\n",
      "          36       0.00      0.00      0.00        94\n",
      "          37       0.00      0.00      0.00        93\n",
      "          38       0.00      0.00      0.00        83\n",
      "          39       0.00      0.00      0.00        79\n",
      "          40       0.00      0.00      0.00        73\n",
      "          41       0.00      0.00      0.00        67\n",
      "          42       0.00      0.00      0.00        70\n",
      "          43       0.00      0.00      0.00        59\n",
      "          44       0.00      0.00      0.00        58\n",
      "          45       0.00      0.00      0.00        63\n",
      "          46       0.00      0.00      0.00        57\n",
      "          47       0.00      0.00      0.00        61\n",
      "          48       0.00      0.00      0.00        56\n",
      "          49       0.00      0.00      0.00        53\n",
      "          50       0.00      0.00      0.00        53\n",
      "          51       0.00      0.00      0.00        57\n",
      "          52       0.00      0.00      0.00        49\n",
      "          53       0.00      0.00      0.00        34\n",
      "          54       0.00      0.00      0.00        45\n",
      "          55       0.00      0.00      0.00        31\n",
      "          56       0.00      0.00      0.00        36\n",
      "          57       0.00      0.00      0.00        22\n",
      "          58       0.00      0.00      0.00        31\n",
      "          59       0.00      0.00      0.00        31\n",
      "          60       0.00      0.00      0.00        36\n",
      "          61       0.00      0.00      0.00        21\n",
      "          62       0.00      0.00      0.00        37\n",
      "          63       0.00      0.00      0.00        21\n",
      "          64       0.00      0.00      0.00        12\n",
      "          65       0.00      0.00      0.00        19\n",
      "          66       0.00      0.00      0.00        26\n",
      "          67       0.00      0.00      0.00        18\n",
      "          68       0.00      0.00      0.00        20\n",
      "          69       0.00      0.00      0.00        13\n",
      "          70       0.00      0.00      0.00        17\n",
      "          71       0.00      0.00      0.00        14\n",
      "          72       0.00      0.00      0.00         6\n",
      "          73       0.00      0.00      0.00        14\n",
      "          74       0.00      0.00      0.00         9\n",
      "          75       0.00      0.00      0.00         8\n",
      "          76       0.00      0.00      0.00         9\n",
      "          77       0.00      0.00      0.00         6\n",
      "          78       0.00      0.00      0.00         6\n",
      "          79       0.00      0.00      0.00         8\n",
      "          80       0.00      0.00      0.00         5\n",
      "          81       0.00      0.00      0.00         3\n",
      "          82       0.00      0.00      0.00         3\n",
      "          85       0.00      0.00      0.00         1\n",
      "          86       0.00      0.00      0.00         2\n",
      "          89       0.00      0.00      0.00         1\n",
      "\n",
      "    accuracy                           0.04      6104\n",
      "   macro avg       0.00      0.01      0.00      6104\n",
      "weighted avg       0.00      0.04      0.00      6104\n",
      "\n"
     ]
    },
    {
     "name": "stderr",
     "output_type": "stream",
     "text": [
      "/Users/lin_peihsuan/opt/anaconda3/lib/python3.7/site-packages/sklearn/metrics/_classification.py:1272: UndefinedMetricWarning: Precision and F-score are ill-defined and being set to 0.0 in labels with no predicted samples. Use `zero_division` parameter to control this behavior.\n",
      "  _warn_prf(average, modifier, msg_start, len(result))\n"
     ]
    }
   ],
   "source": [
    "print(classification_report(validate_output,mlp.predict(validate_data)))"
   ]
  },
  {
   "cell_type": "code",
   "execution_count": 18,
   "metadata": {},
   "outputs": [
    {
     "name": "stdout",
     "output_type": "stream",
     "text": [
      "accuracy score of training: 0.03466775877956384\n",
      "accuracy score of testing: 0.03407043407043407\n",
      "accuracy score of validating: 0.03915465268676278\n"
     ]
    }
   ],
   "source": [
    "print(\"accuracy score of training: {}\".format(accuracy_score(train_output,mlp.predict(train_data))))\n",
    "print(\"accuracy score of testing: {}\".format(accuracy_score(test_output,mlp.predict(test_data))))\n",
    "print(\"accuracy score of validating: {}\".format(accuracy_score(validate_output,mlp.predict(validate_data))))"
   ]
  },
  {
   "cell_type": "code",
   "execution_count": 19,
   "metadata": {},
   "outputs": [
    {
     "data": {
      "text/plain": [
       "<matplotlib.axes._subplots.AxesSubplot at 0x1a1d556350>"
      ]
     },
     "execution_count": 19,
     "metadata": {},
     "output_type": "execute_result"
    },
    {
     "data": {
      "image/png": "[encoded data removed]",
      "text/plain": [
       "<Figure size 432x288 with 2 Axes>"
      ]
     },
     "metadata": {
      "needs_background": "light"
     },
     "output_type": "display_data"
    }
   ],
   "source": [
    "skplt.metrics.plot_confusion_matrix(validate_output, valid_pred, normalize=True)"
   ]
  },
  {
   "cell_type": "code",
   "execution_count": null,
   "metadata": {},
   "outputs": [],
   "source": []
  }
 ],
 "metadata": {
  "kernelspec": {
   "display_name": "Python 3",
   "language": "python",
   "name": "python3"
  },
  "language_info": {
   "codemirror_mode": {
    "name": "ipython",
    "version": 3
   },
   "file_extension": ".py",
   "mimetype": "text/x-python",
   "name": "python",
   "nbconvert_exporter": "python",
   "pygments_lexer": "ipython3",
   "version": "3.7.6"
  }
 },
 "nbformat": 4,
 "nbformat_minor": 4
}
